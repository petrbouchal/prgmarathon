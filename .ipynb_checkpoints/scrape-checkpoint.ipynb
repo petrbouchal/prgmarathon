{
 "cells": [
  {
   "cell_type": "code",
   "execution_count": 1,
   "metadata": {
    "collapsed": false
   },
   "outputs": [
    {
     "data": {
      "text/plain": [
       "85431"
      ]
     },
     "execution_count": 1,
     "metadata": {},
     "output_type": "execute_result"
    }
   ],
   "source": [
    "import requests\n",
    "import json\n",
    "\n",
    "subeventid = [11875]\n",
    "\n",
    "maraurl_base = \"http://www.runczech.com/\"\n",
    "maraurl_path = \"srv/www/api/runner-results/v1/results/\"\n",
    "\n",
    "totalrecs = requests.get(url=maraurl_base+maraurl_path,\n",
    "                        data = {\"per_page\":100, \"subeventid\":subeventid, \"page\":1})\n",
    "\n",
    "totalrecords=json.loads(totalrecs.content)['totalNumberOfRecords']\n",
    "totalrecords"
   ]
  },
  {
   "cell_type": "code",
   "execution_count": null,
   "metadata": {
    "collapsed": true
   },
   "outputs": [],
   "source": []
  },
  {
   "cell_type": "code",
   "execution_count": null,
   "metadata": {
    "collapsed": true
   },
   "outputs": [],
   "source": []
  },
  {
   "cell_type": "code",
   "execution_count": null,
   "metadata": {
    "collapsed": true
   },
   "outputs": [],
   "source": []
  },
  {
   "cell_type": "code",
   "execution_count": 6,
   "metadata": {
    "collapsed": false
   },
   "outputs": [
    {
     "name": "stdout",
     "output_type": "stream",
     "text": [
      "182650\n",
      "{'x-xss-protection': '1; mode=block', 'x-content-type-options': 'nosniff', 'content-encoding': 'gzip', 'transfer-encoding': 'chunked', 'set-cookie': 'JSESSIONID=3A5EAF842A57349F6C48B1C9D0326D4C; Path=/, JSESSIONID=3A5EAF842A57349F6C48B1C9D0326D4C; Path=/; HttpOnly, SSO_TOKEN=; Path=/; Expires=14 May 2016 22:11:33 GMT; HttpOnly, SERVERID=worker03; path=/, visid_incap_42755=RMOT8l+jSla1m+GdQhntQZWiN1cAAAAAQUIPAAAAAABltQKgqDaLn+AOhu+RWBci; expires=Sun, 14 May 2017 13:16:42 GMT; path=/; Domain=.runczech.com, incap_ses_340_42755=Ni78Zg2obV9B9HAtQ+y3BJWiN1cAAAAARBWiugEmbstDwBAshT0BTA==; path=/; Domain=.runczech.com, ___utmvmKPuFzwB=MNhbyDPHdmH; path=/; Max-Age=900, ___utmvaKPuFzwB=Hkf\\x01Uztx; path=/; Max-Age=900, ___utmvbKPuFzwB=aZA\\r\\n    XdJONalz: Ptk; path=/; Max-Age=900', 'x-cdn': 'Incapsula', 'vary': 'Accept-Encoding', 'server': 'nginx', 'x-total-count': '85431', 'link': 'not-implemented-yet', 'pragma': 'no-cache', 'cache-control': 'no-store,no-cache', 'date': 'Sat, 14 May 2016 22:11:33 GMT', 'x-iinfo': '9-79369398-79369399 NNNY CT(27 -1 0) RT(1463263893018 0) q(0 0 0 -1) r(0 0)', 'x-frame-options': 'SAMEORIGIN, SAMEORIGIN', 'content-type': 'application/json'}\n",
      "182650\n",
      "{'x-xss-protection': '1; mode=block', 'x-content-type-options': 'nosniff', 'content-encoding': 'gzip', 'transfer-encoding': 'chunked', 'set-cookie': 'JSESSIONID=818D37A9E460CD092D952E0C598C4461; Path=/, JSESSIONID=818D37A9E460CD092D952E0C598C4461; Path=/; HttpOnly, SSO_TOKEN=; Path=/; Expires=14 May 2016 22:11:33 GMT; HttpOnly, SERVERID=worker02; path=/, visid_incap_42755=T3XloAWXTn2puDfPWCcFqJWiN1cAAAAAQUIPAAAAAAAlk9lgqm+1TjuBOHjw78KF; expires=Sun, 14 May 2017 13:16:43 GMT; path=/; Domain=.runczech.com, incap_ses_340_42755=Uo0OH9xytEBc9HAtQ+y3BJWiN1cAAAAAWWjEfQYmALX1NnPALxPjrA==; path=/; Domain=.runczech.com, ___utmvmKPuFzwB=DyPosZFgTNt; path=/; Max-Age=900, ___utmvaKPuFzwB=lYf\\x01cHCT; path=/; Max-Age=900, ___utmvbKPuFzwB=kZI\\r\\n    XKUOCalV: tto; path=/; Max-Age=900', 'x-cdn': 'Incapsula', 'vary': 'Accept-Encoding', 'server': 'nginx', 'x-total-count': '85431', 'link': 'not-implemented-yet', 'pragma': 'no-cache', 'cache-control': 'no-store,no-cache', 'date': 'Sat, 14 May 2016 22:11:33 GMT', 'x-iinfo': '1-21852320-21852321 NNNY CT(24 -1 0) RT(1463263893130 0) q(0 0 0 -1) r(0 0)', 'x-frame-options': 'SAMEORIGIN, SAMEORIGIN', 'content-type': 'application/json'}\n"
     ]
    }
   ],
   "source": [
    "pagenumbers = range(1,((totalrecords // 100 + 2)))\n",
    "\n",
    "for i in pagenumbers[1:3]:\n",
    "    records = requests.get(url=maraurl_base+maraurl_path,\n",
    "                           data = {\"per_page\":100, \"subeventid\":subeventid, \"page\":i})\n",
    "    # print(records.json())\n",
    "    print(json.loads(records.content)['data'][1]['runnerId'])\n",
    "    print(records.headers)\n"
   ]
  },
  {
   "cell_type": "code",
   "execution_count": null,
   "metadata": {
    "collapsed": true
   },
   "outputs": [],
   "source": []
  },
  {
   "cell_type": "code",
   "execution_count": null,
   "metadata": {
    "collapsed": true
   },
   "outputs": [],
   "source": []
  },
  {
   "cell_type": "code",
   "execution_count": null,
   "metadata": {
    "collapsed": true
   },
   "outputs": [],
   "source": []
  },
  {
   "cell_type": "code",
   "execution_count": null,
   "metadata": {
    "collapsed": true
   },
   "outputs": [],
   "source": []
  },
  {
   "cell_type": "code",
   "execution_count": null,
   "metadata": {
    "collapsed": false
   },
   "outputs": [],
   "source": []
  },
  {
   "cell_type": "code",
   "execution_count": null,
   "metadata": {
    "collapsed": true
   },
   "outputs": [],
   "source": []
  },
  {
   "cell_type": "code",
   "execution_count": null,
   "metadata": {
    "collapsed": true
   },
   "outputs": [],
   "source": []
  }
 ],
 "metadata": {
  "kernelspec": {
   "display_name": "Python 2",
   "language": "python",
   "name": "python2"
  },
  "language_info": {
   "codemirror_mode": {
    "name": "ipython",
    "version": 2
   },
   "file_extension": ".py",
   "mimetype": "text/x-python",
   "name": "python",
   "nbconvert_exporter": "python",
   "pygments_lexer": "ipython2",
   "version": "2.7.10"
  }
 },
 "nbformat": 4,
 "nbformat_minor": 0
}
